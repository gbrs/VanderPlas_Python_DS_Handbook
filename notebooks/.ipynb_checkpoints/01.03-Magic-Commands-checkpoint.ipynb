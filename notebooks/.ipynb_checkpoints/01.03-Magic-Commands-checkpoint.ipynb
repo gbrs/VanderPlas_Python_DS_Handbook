{
 "cells": [
  {
   "cell_type": "markdown",
   "metadata": {},
   "source": [
    "<!--BOOK_INFORMATION-->\n",
    "<img align=\"left\" style=\"padding-right:10px;\" src=\"figures/PDSH-cover-small.png\">\n",
    "\n",
    "*This notebook contains an excerpt from the [Python Data Science Handbook](http://shop.oreilly.com/product/0636920034919.do) by Jake VanderPlas; the content is available [on GitHub](https://github.com/jakevdp/PythonDataScienceHandbook).*\n",
    "\n",
    "*The text is released under the [CC-BY-NC-ND license](https://creativecommons.org/licenses/by-nc-nd/3.0/us/legalcode), and code is released under the [MIT license](https://opensource.org/licenses/MIT). If you find this content useful, please consider supporting the work by [buying the book](http://shop.oreilly.com/product/0636920034919.do)!*"
   ]
  },
  {
   "cell_type": "markdown",
   "metadata": {},
   "source": [
    "<!--NAVIGATION-->\n",
    "< [Keyboard Shortcuts in the IPython Shell](01.02-Shell-Keyboard-Shortcuts.ipynb) | [Contents](Index.ipynb) | [Input and Output History](01.04-Input-Output-History.ipynb) >\n",
    "\n",
    "<a href=\"https://colab.research.google.com/github/jakevdp/PythonDataScienceHandbook/blob/master/notebooks/01.03-Magic-Commands.ipynb\"><img align=\"left\" src=\"https://colab.research.google.com/assets/colab-badge.svg\" alt=\"Open in Colab\" title=\"Open and Execute in Google Colaboratory\"></a>\n"
   ]
  },
  {
   "cell_type": "markdown",
   "metadata": {},
   "source": [
    "# IPython Magic Commands"
   ]
  },
  {
   "cell_type": "markdown",
   "metadata": {},
   "source": [
    "The previous two sections showed how IPython lets you use and explore Python efficiently and interactively.\n",
    "Here we'll begin discussing some of the enhancements that IPython adds on top of the normal Python syntax.\n",
    "These are known in IPython as *magic commands*, and are prefixed by the ``%`` character.\n",
    "These magic commands are designed to succinctly solve various common problems in standard data analysis.\n",
    "Magic commands come in two flavors: *line magics*, which are denoted by a single ``%`` prefix and operate on a single line of input, and *cell magics*, which are denoted by a double ``%%`` prefix and operate on multiple lines of input.\n",
    "We'll demonstrate and discuss a few brief examples here, and come back to more focused discussion of several useful magic commands later in the chapter."
   ]
  },
  {
   "cell_type": "markdown",
   "metadata": {},
   "source": [
    "## Pasting Code Blocks: ``%paste`` and ``%cpaste``\n",
    "\n",
    "When working in the IPython interpreter, one common gotcha is that pasting multi-line code blocks can lead to unexpected errors, especially when indentation and interpreter markers are involved.\n",
    "A common case is that you find some example code on a website and want to paste it into your interpreter.\n",
    "Consider the following simple function:\n",
    "\n",
    "``` python\n",
    ">>> def donothing(x):\n",
    "...     return x\n",
    "\n",
    "```\n",
    "The code is formatted as it would appear in the Python interpreter, and if you copy and paste this directly into IPython you get an error:\n",
    "\n",
    "```ipython\n",
    "In [2]: >>> def donothing(x):\n",
    "   ...:     ...     return x\n",
    "   ...:     \n",
    "  File \"<ipython-input-20-5a66c8964687>\", line 2\n",
    "    ...     return x\n",
    "                 ^\n",
    "SyntaxError: invalid syntax\n",
    "```\n",
    "\n",
    "In the direct paste, the interpreter is confused by the additional prompt characters.\n",
    "But never fear–IPython's ``%paste`` magic function is designed to handle this exact type of multi-line, marked-up input:\n",
    "\n",
    "```ipython\n",
    "In [3]: %paste\n",
    ">>> def donothing(x):\n",
    "...     return x\n",
    "\n",
    "## -- End pasted text --\n",
    "```\n",
    "\n",
    "The ``%paste`` command both enters and executes the code, so now the function is ready to be used:\n",
    "\n",
    "```ipython\n",
    "In [4]: donothing(10)\n",
    "Out[4]: 10\n",
    "```\n",
    "\n",
    "A command with a similar intent is ``%cpaste``, which opens up an interactive multiline prompt in which you can paste one or more chunks of code to be executed in a batch:\n",
    "\n",
    "```ipython\n",
    "In [5]: %cpaste\n",
    "Pasting code; enter '--' alone on the line to stop or use Ctrl-D.\n",
    ":>>> def donothing(x):\n",
    ":...     return x\n",
    ":--\n",
    "```\n",
    "\n",
    "These magic commands, like others we'll see, make available functionality that would be difficult or impossible in a standard Python interpreter."
   ]
  },
  {
   "cell_type": "markdown",
   "metadata": {},
   "source": [
    "## Running External Code: ``%run``\n",
    "As you begin developing more extensive code, you will likely find yourself working in both IPython for interactive exploration, as well as a text editor to store code that you want to reuse.\n",
    "Rather than running this code in a new window, it can be convenient to run it within your IPython session.\n",
    "This can be done with the ``%run`` magic.\n",
    "\n",
    "For example, imagine you've created a ``myscript.py`` file with the following contents:\n",
    "\n",
    "```python\n",
    "#-------------------------------------\n",
    "# file: myscript.py\n",
    "\n",
    "def square(x):\n",
    "    \"\"\"square a number\"\"\"\n",
    "    return x ** 2\n",
    "\n",
    "for N in range(1, 4):\n",
    "    print(N, \"squared is\", square(N))\n",
    "```\n",
    "\n",
    "You can execute this from your IPython session as follows:\n",
    "\n",
    "```ipython\n",
    "In [6]: %run myscript.py\n",
    "1 squared is 1\n",
    "2 squared is 4\n",
    "3 squared is 9\n",
    "```\n",
    "\n",
    "Note also that after you've run this script, any functions defined within it are available for use in your IPython session:\n",
    "\n",
    "```ipython\n",
    "In [7]: square(5)\n",
    "Out[7]: 25\n",
    "```\n",
    "\n",
    "There are several options to fine-tune how your code is run; you can see the documentation in the normal way, by typing **``%run?``** in the IPython interpreter."
   ]
  },
  {
   "cell_type": "code",
   "execution_count": 7,
   "metadata": {},
   "outputs": [],
   "source": [
    "%run helpers_05_08.py  # запускаем файл из этой папки"
   ]
  },
  {
   "cell_type": "code",
   "execution_count": 10,
   "metadata": {},
   "outputs": [],
   "source": [
    "# можем запускать функции из этого файла\n",
    "??plot_tree_interactive"
   ]
  },
  {
   "cell_type": "markdown",
   "metadata": {},
   "source": [
    "## Timing Code Execution: ``%timeit``\n",
    "Another example of a useful magic function is ``%timeit``, which will automatically determine the execution time of the single-line Python statement that follows it.\n",
    "For example, we may want to check the performance of a list comprehension:\n",
    "\n",
    "```ipython\n",
    "In [8]: %timeit L = [n ** 2 for n in range(1000)]\n",
    "1000 loops, best of 3: 325 µs per loop\n",
    "```\n",
    "\n",
    "The benefit of ``%timeit`` is that for short commands it will automatically perform multiple runs in order to attain more robust results.\n",
    "For multi line statements, adding a second ``%`` sign will turn this into a cell magic that can handle multiple lines of input.\n",
    "For example, here's the equivalent construction with a ``for``-loop:\n",
    "\n",
    "```ipython\n",
    "In [9]: %%timeit\n",
    "   ...: L = []\n",
    "   ...: for n in range(1000):\n",
    "   ...:     L.append(n ** 2)\n",
    "   ...: \n",
    "1000 loops, best of 3: 373 µs per loop\n",
    "```\n",
    "\n",
    "We can immediately see that list comprehensions are about 10% faster than the equivalent ``for``-loop construction in this case.\n",
    "We'll explore ``%timeit`` and other approaches to timing and profiling code in [Profiling and Timing Code](01.07-Timing-and-Profiling.ipynb)."
   ]
  },
  {
   "cell_type": "code",
   "execution_count": 21,
   "metadata": {},
   "outputs": [
    {
     "name": "stdout",
     "output_type": "stream",
     "text": [
      "604 µs ± 27.7 µs per loop (mean ± std. dev. of 7 runs, 1000 loops each)\n"
     ]
    }
   ],
   "source": [
    "%%timeit\n",
    "L = []\n",
    "for n in range(1000):\n",
    "    L.append(n ** 2)\n",
    "for n in range(1000):\n",
    "    L.pop(0)"
   ]
  },
  {
   "cell_type": "markdown",
   "metadata": {},
   "source": [
    "## Help on Magic Functions: ``?``, ``%magic``, and ``%lsmagic``\n",
    "\n",
    "Like normal Python functions, IPython magic functions have docstrings, and this useful\n",
    "documentation can be accessed in the standard manner.\n",
    "So, for example, to read the documentation of the ``%timeit`` magic simply type this:\n",
    "\n",
    "```ipython\n",
    "In [10]: %timeit?\n",
    "```\n",
    "\n",
    "Documentation for other functions can be accessed similarly.\n",
    "To access a general description of available magic functions, including some examples, you can type this:\n",
    "\n",
    "```ipython\n",
    "In [11]: %magic\n",
    "```\n",
    "\n",
    "For a quick and simple list of all available magic functions, type this:\n",
    "\n",
    "```ipython\n",
    "In [12]: %lsmagic\n",
    "```\n",
    "\n",
    "Finally, I'll mention that it is quite straightforward to define your own magic functions if you wish.\n",
    "We won't discuss it here, but if you are interested, see the references listed in [More IPython Resources](01.08-More-IPython-Resources.ipynb)."
   ]
  },
  {
   "cell_type": "code",
   "execution_count": 25,
   "metadata": {},
   "outputs": [],
   "source": [
    "?? %%timeit"
   ]
  },
  {
   "cell_type": "code",
   "execution_count": 28,
   "metadata": {},
   "outputs": [],
   "source": [
    "%magic"
   ]
  },
  {
   "cell_type": "code",
   "execution_count": 32,
   "metadata": {},
   "outputs": [
    {
     "name": "stdout",
     "output_type": "stream",
     "text": [
      " ’®¬ ў гбва®©бвўҐ C Ё¬ҐҐв ¬ҐвЄг System\n",
      " ‘ҐаЁ©­л© ­®¬Ґа в®¬ : BAD4-A80B\n",
      "\n",
      " ‘®¤Ґа¦Ё¬®Ґ Ї ЇЄЁ C:\\Users\\Ѓ®аЁб\\AnacondaProjects\\VanderPlas_Python_DS_Handbook\\notebooks\n",
      "\n",
      "20.01.2022  16:04    <DIR>          .\n",
      "20.01.2022  16:04    <DIR>          ..\n",
      "20.01.2022  15:38    <DIR>          .ipynb_checkpoints\n",
      "20.01.2022  10:21            14я190 00.00-Preface.ipynb\n",
      "20.01.2022  10:21             8я662 01.00-IPython-Beyond-Normal-Python.ipynb\n",
      "20.01.2022  11:07            18я192 01.01-Help-And-Documentation.ipynb\n",
      "20.01.2022  10:21            10я827 01.02-Shell-Keyboard-Shortcuts.ipynb\n",
      "20.01.2022  16:04            17я581 01.03-Magic-Commands.ipynb\n",
      "20.01.2022  10:21             9я353 01.04-Input-Output-History.ipynb\n",
      "20.01.2022  10:21            11я835 01.05-IPython-And-Shell-Commands.ipynb\n",
      "20.01.2022  10:21            21я677 01.06-Errors-and-Debugging.ipynb\n",
      "20.01.2022  10:21            19я500 01.07-Timing-and-Profiling.ipynb\n",
      "20.01.2022  10:21             5я728 01.08-More-IPython-Resources.ipynb\n",
      "20.01.2022  10:21             7я777 02.00-Introduction-to-NumPy.ipynb\n",
      "20.01.2022  10:21            24я751 02.01-Understanding-Data-Types.ipynb\n",
      "20.01.2022  10:21            35я089 02.02-The-Basics-Of-NumPy-Arrays.ipynb\n",
      "20.01.2022  10:21            33я185 02.03-Computation-on-arrays-ufuncs.ipynb\n",
      "20.01.2022  10:21            31я968 02.04-Computation-on-arrays-aggregates.ipynb\n",
      "20.01.2022  10:21           103я043 02.05-Computation-on-arrays-broadcasting.ipynb\n",
      "20.01.2022  10:21            42я455 02.06-Boolean-Arrays-and-Masks.ipynb\n",
      "20.01.2022  10:21            63я940 02.07-Fancy-Indexing.ipynb\n",
      "20.01.2022  10:21            63я023 02.08-Sorting.ipynb\n",
      "20.01.2022  10:21            17я856 02.09-Structured-Data-NumPy.ipynb\n",
      "20.01.2022  10:21             7я240 03.00-Introduction-to-Pandas.ipynb\n",
      "20.01.2022  10:21            41я683 03.01-Introducing-Pandas-Objects.ipynb\n",
      "20.01.2022  10:21            42я928 03.02-Data-Indexing-and-Selection.ipynb\n",
      "20.01.2022  10:21            28я635 03.03-Operations-in-Pandas.ipynb\n",
      "20.01.2022  10:21            38я731 03.04-Missing-Values.ipynb\n",
      "20.01.2022  10:21            79я032 03.05-Hierarchical-Indexing.ipynb\n",
      "20.01.2022  10:21            49я132 03.06-Concat-And-Append.ipynb\n",
      "20.01.2022  10:21           110я988 03.07-Merge-and-Join.ipynb\n",
      "20.01.2022  10:21            81я925 03.08-Aggregation-and-Grouping.ipynb\n",
      "20.01.2022  10:21           187я237 03.09-Pivot-Tables.ipynb\n",
      "20.01.2022  10:21            43я677 03.10-Working-With-Strings.ipynb\n",
      "20.01.2022  10:21           680я462 03.11-Working-with-Time-Series.ipynb\n",
      "20.01.2022  10:21            32я308 03.12-Performance-Eval-and-Query.ipynb\n",
      "20.01.2022  10:21             5я155 03.13-Further-Resources.ipynb\n",
      "20.01.2022  10:21           101я713 04.00-Introduction-To-Matplotlib.ipynb\n",
      "20.01.2022  10:21           296я739 04.01-Simple-Line-Plots.ipynb\n",
      "20.01.2022  10:21           198я151 04.02-Simple-Scatter-Plots.ipynb\n",
      "20.01.2022  10:21            48я029 04.03-Errorbars.ipynb\n",
      "20.01.2022  10:21           498я064 04.04-Density-and-Contour-Plots.ipynb\n",
      "20.01.2022  10:21           125я797 04.05-Histograms-and-Binnings.ipynb\n",
      "20.01.2022  10:21           220я183 04.06-Customizing-Legends.ipynb\n",
      "20.01.2022  10:21           435я962 04.07-Customizing-Colorbars.ipynb\n",
      "20.01.2022  10:21           151я311 04.08-Multiple-Subplots.ipynb\n",
      "20.01.2022  10:21           196я328 04.09-Text-and-Annotation.ipynb\n",
      "20.01.2022  10:21           318я587 04.10-Customizing-Ticks.ipynb\n",
      "20.01.2022  10:21           372я797 04.11-Settings-and-Stylesheets.ipynb\n",
      "20.01.2022  10:21           663я309 04.12-Three-Dimensional-Plotting.ipynb\n",
      "20.01.2022  10:21         2я738я491 04.13-Geographic-Data-With-Basemap.ipynb\n",
      "20.01.2022  10:21         1я073я641 04.14-Visualization-With-Seaborn.ipynb\n",
      "20.01.2022  10:21             5я891 04.15-Further-Resources.ipynb\n",
      "20.01.2022  10:21             5я208 05.00-Machine-Learning.ipynb\n",
      "20.01.2022  10:21            24я681 05.01-What-Is-Machine-Learning.ipynb\n",
      "20.01.2022  10:21           392я263 05.02-Introducing-Scikit-Learn.ipynb\n",
      "20.01.2022  10:21           215я852 05.03-Hyperparameters-and-Model-Validation.ipynb\n",
      "20.01.2022  10:21            50я127 05.04-Feature-Engineering.ipynb\n",
      "20.01.2022  10:21           264я282 05.05-Naive-Bayes.ipynb\n",
      "20.01.2022  10:21           389я019 05.06-Linear-Regression.ipynb\n",
      "20.01.2022  10:21         1я033я877 05.07-Support-Vector-Machines.ipynb\n",
      "20.01.2022  10:21           486я569 05.08-Random-Forests.ipynb\n",
      "20.01.2022  10:21           579я791 05.09-Principal-Component-Analysis.ipynb\n",
      "20.01.2022  10:21         1я559я395 05.10-Manifold-Learning.ipynb\n",
      "20.01.2022  10:21         2я108я557 05.11-K-Means.ipynb\n",
      "20.01.2022  10:21         1я136я352 05.12-Gaussian-Mixtures.ipynb\n",
      "20.01.2022  10:21           260я391 05.13-Kernel-Density-Estimation.ipynb\n",
      "20.01.2022  10:21           567я431 05.14-Image-Features.ipynb\n",
      "20.01.2022  10:21             7я031 05.15-Learning-More.ipynb\n",
      "20.01.2022  10:21         1я848я803 06.00-Figure-Code.ipynb\n",
      "20.01.2022  10:25    <DIR>          data\n",
      "20.01.2022  10:25    <DIR>          figures\n",
      "20.01.2022  10:21             2я935 helpers_05_08.py\n",
      "20.01.2022  10:21             6я838 Index.ipynb\n",
      "              69 д ©«®ў     20я374я160 Ў ©в\n",
      "               5 Ї Ї®Є  110я037я590я016 Ў ©в бў®Ў®¤­®\n"
     ]
    }
   ],
   "source": [
    "!dir"
   ]
  },
  {
   "cell_type": "markdown",
   "metadata": {},
   "source": [
    "<!--NAVIGATION-->\n",
    "< [Keyboard Shortcuts in the IPython Shell](01.02-Shell-Keyboard-Shortcuts.ipynb) | [Contents](Index.ipynb) | [Input and Output History](01.04-Input-Output-History.ipynb) >\n",
    "\n",
    "<a href=\"https://colab.research.google.com/github/jakevdp/PythonDataScienceHandbook/blob/master/notebooks/01.03-Magic-Commands.ipynb\"><img align=\"left\" src=\"https://colab.research.google.com/assets/colab-badge.svg\" alt=\"Open in Colab\" title=\"Open and Execute in Google Colaboratory\"></a>\n"
   ]
  }
 ],
 "metadata": {
  "anaconda-cloud": {},
  "kernelspec": {
   "display_name": "Python 3",
   "language": "python",
   "name": "python3"
  },
  "language_info": {
   "codemirror_mode": {
    "name": "ipython",
    "version": 3
   },
   "file_extension": ".py",
   "mimetype": "text/x-python",
   "name": "python",
   "nbconvert_exporter": "python",
   "pygments_lexer": "ipython3",
   "version": "3.8.8"
  }
 },
 "nbformat": 4,
 "nbformat_minor": 1
}
